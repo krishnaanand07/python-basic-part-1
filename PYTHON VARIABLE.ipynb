{
 "cells": [
  {
   "cell_type": "code",
   "execution_count": 2,
   "id": "641a2b24-fb3c-4e98-ab2c-bca49794c313",
   "metadata": {},
   "outputs": [
    {
     "name": "stdout",
     "output_type": "stream",
     "text": [
      "25\n"
     ]
    }
   ],
   "source": [
    "age=25\n",
    "print(age)"
   ]
  },
  {
   "cell_type": "code",
   "execution_count": 4,
   "id": "c077fe8d-6cf9-4496-8c22-23db9ae2991e",
   "metadata": {},
   "outputs": [
    {
     "name": "stdout",
     "output_type": "stream",
     "text": [
      "krishna\n"
     ]
    }
   ],
   "source": [
    "name='krishna'\n",
    "print(name)"
   ]
  },
  {
   "cell_type": "code",
   "execution_count": 6,
   "id": "a69f1dbe-c549-41d0-ab77-535b448fb765",
   "metadata": {},
   "outputs": [
    {
     "name": "stdout",
     "output_type": "stream",
     "text": [
      "19.99\n"
     ]
    }
   ],
   "source": [
    "price=19.99\n",
    "print(price)"
   ]
  },
  {
   "cell_type": "code",
   "execution_count": 8,
   "id": "279e0654-746f-4f6a-a700-007807821d3a",
   "metadata": {},
   "outputs": [
    {
     "name": "stdout",
     "output_type": "stream",
     "text": [
      "True\n"
     ]
    }
   ],
   "source": [
    "is_active=True\n",
    "print(is_active)"
   ]
  },
  {
   "cell_type": "code",
   "execution_count": 10,
   "id": "1343ff9d-77bd-495c-b6f9-3e8fe53d0857",
   "metadata": {},
   "outputs": [
    {
     "name": "stdout",
     "output_type": "stream",
     "text": [
      "10\n"
     ]
    }
   ],
   "source": [
    "x=10\n",
    "print(x)"
   ]
  },
  {
   "cell_type": "code",
   "execution_count": 12,
   "id": "ba907eda-da5e-4574-b391-c66015223451",
   "metadata": {},
   "outputs": [
    {
     "name": "stdout",
     "output_type": "stream",
     "text": [
      "8\n"
     ]
    }
   ],
   "source": [
    "a=5\n",
    "b=3\n",
    "result=a+b\n",
    "print(result)"
   ]
  },
  {
   "cell_type": "code",
   "execution_count": 14,
   "id": "aed0e3be-1b00-45a8-9990-39f22051a376",
   "metadata": {},
   "outputs": [
    {
     "name": "stdout",
     "output_type": "stream",
     "text": [
      "50\n",
      "100\n"
     ]
    }
   ],
   "source": [
    "score=50\n",
    "print(score)\n",
    "score=100\n",
    "print(score)"
   ]
  },
  {
   "cell_type": "code",
   "execution_count": 18,
   "id": "d75b9b6f-ef50-4435-86e2-b675a917991c",
   "metadata": {},
   "outputs": [
    {
     "name": "stdout",
     "output_type": "stream",
     "text": [
      "Krishna Anand\n"
     ]
    }
   ],
   "source": [
    "first_name=\"Krishna\"\n",
    "last_name=\"Anand\"\n",
    "full_name=first_name+ \" \" +last_name \n",
    "print(full_name)"
   ]
  },
  {
   "cell_type": "code",
   "execution_count": null,
   "id": "dbec6e69-84f2-4860-bbfc-3e112efbfc13",
   "metadata": {},
   "outputs": [],
   "source": [
    "length=5\n",
    "width=5\n",
    "area=lengh"
   ]
  }
 ],
 "metadata": {
  "kernelspec": {
   "display_name": "Python 3 (ipykernel)",
   "language": "python",
   "name": "python3"
  },
  "language_info": {
   "codemirror_mode": {
    "name": "ipython",
    "version": 3
   },
   "file_extension": ".py",
   "mimetype": "text/x-python",
   "name": "python",
   "nbconvert_exporter": "python",
   "pygments_lexer": "ipython3",
   "version": "3.12.7"
  }
 },
 "nbformat": 4,
 "nbformat_minor": 5
}
