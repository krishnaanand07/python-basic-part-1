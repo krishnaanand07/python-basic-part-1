{
 "cells": [
  {
   "cell_type": "code",
   "execution_count": 2,
   "id": "46741bcd-0d73-430c-a28f-b6417b14bbc9",
   "metadata": {},
   "outputs": [
    {
     "data": {
      "text/plain": [
       "10"
      ]
     },
     "execution_count": 2,
     "metadata": {},
     "output_type": "execute_result"
    }
   ],
   "source": [
    "a=20\n",
    "b=10\n",
    "a\n",
    "b"
   ]
  },
  {
   "cell_type": "code",
   "execution_count": 4,
   "id": "283d5c17-7ba8-4d1c-b432-cbaf0452cc60",
   "metadata": {},
   "outputs": [
    {
     "name": "stdout",
     "output_type": "stream",
     "text": [
      "10\n",
      "20\n"
     ]
    }
   ],
   "source": [
    "a=10\n",
    "b=20\n",
    "print(a)\n",
    "print(b)"
   ]
  },
  {
   "cell_type": "code",
   "execution_count": 6,
   "id": "d096a3e3-0239-47db-971b-403ded6daba7",
   "metadata": {},
   "outputs": [
    {
     "name": "stdout",
     "output_type": "stream",
     "text": [
      "10\n",
      "10 20\n",
      "python\n",
      "10 20 krishna\n"
     ]
    }
   ],
   "source": [
    "print(10)\n",
    "print(10,20)\n",
    "print('python')\n",
    "print(10,20,'krishna')"
   ]
  },
  {
   "cell_type": "code",
   "execution_count": 8,
   "id": "bb9e8786-f07d-49ec-b1d0-decbbb9a3cdc",
   "metadata": {},
   "outputs": [
    {
     "name": "stdout",
     "output_type": "stream",
     "text": [
      "50\n"
     ]
    }
   ],
   "source": [
    "nums1=20\n",
    "nums2=30\n",
    "add=nums1+nums2\n",
    "print(add)"
   ]
  },
  {
   "cell_type": "markdown",
   "id": "065e3277-0253-470b-8e93-85af3fd85e34",
   "metadata": {},
   "source": [
    "<!-- print result with string -->"
   ]
  },
  {
   "cell_type": "code",
   "execution_count": 12,
   "id": "20f03c58-2cb0-487c-a945-bc821032625d",
   "metadata": {},
   "outputs": [
    {
     "name": "stdout",
     "output_type": "stream",
     "text": [
      "the addition of 20 and 20 is 50\n"
     ]
    }
   ],
   "source": [
    "nums1=20\n",
    "nums2=30\n",
    "add=nums1+nums2\n",
    "print('the addition of',nums1,'and',nums1,'is',add)"
   ]
  },
  {
   "cell_type": "code",
   "execution_count": 18,
   "id": "b3edd599-eee6-42c6-aebe-8bba734377a0",
   "metadata": {},
   "outputs": [
    {
     "name": "stdout",
     "output_type": "stream",
     "text": [
      "My name is Krishna and i am 20 years old from Gorakhpur\n"
     ]
    }
   ],
   "source": [
    "name='Krishna'\n",
    "age=20\n",
    "city='Gorakhpur'\n",
    "print('My name is',name,'and i am',age,'years old from',city)"
   ]
  },
  {
   "cell_type": "markdown",
   "id": "facbd633-d324-4a3d-a1c2-e5b27bc4bbf3",
   "metadata": {},
   "source": [
    "# print format method"
   ]
  },
  {
   "cell_type": "code",
   "execution_count": 20,
   "id": "c2dc58af-04d8-4bb9-9ae6-097f7d8d0fa2",
   "metadata": {},
   "outputs": [
    {
     "name": "stdout",
     "output_type": "stream",
     "text": [
      "The addition of20 and 30 is=50\n"
     ]
    }
   ],
   "source": [
    "nums1=20\n",
    "nums2=30\n",
    "add=nums1+nums2\n",
    "print('The addition of{} and {} is={}'.format(nums1,nums2,add))"
   ]
  },
  {
   "cell_type": "code",
   "execution_count": 22,
   "id": "be5e714d-b96c-4540-9f8f-00f60603f38a",
   "metadata": {},
   "outputs": [
    {
     "name": "stdout",
     "output_type": "stream",
     "text": [
      "hello my name is Krishna, and i am 20 years old from Gorakhpur\n"
     ]
    }
   ],
   "source": [
    "name='Krishna'\n",
    "age=20\n",
    "city='Gorakhpur'\n",
    "print('hello my name is {}, and i am {} years old from {}'.format(name,age,city))\n"
   ]
  },
  {
   "cell_type": "code",
   "execution_count": 24,
   "id": "309dc318-1c46-4fb8-a40a-700fecf13e3b",
   "metadata": {},
   "outputs": [
    {
     "name": "stdout",
     "output_type": "stream",
     "text": [
      "The avrage of 100, 25, and 333 is= 152.66666666666666 or 152.67\n"
     ]
    }
   ],
   "source": [
    "num1=100\n",
    "num2=25\n",
    "num3=333\n",
    "avg=(num1+num2+num3)/3  \n",
    "avg1=round((num1+num2+num3)/3,2)\n",
    "print('The avrage of {}, {}, and {} is= {} or {}'.format(num1,num2,num3,avg,avg1))"
   ]
  },
  {
   "cell_type": "code",
   "execution_count": 28,
   "id": "8a6ea5a8-cdab-40c5-a7dc-112bace3c46f",
   "metadata": {},
   "outputs": [
    {
     "data": {
      "text/plain": [
       "152.67"
      ]
     },
     "execution_count": 28,
     "metadata": {},
     "output_type": "execute_result"
    }
   ],
   "source": [
    "round(avg,2)\n"
   ]
  },
  {
   "cell_type": "markdown",
   "id": "1e170d5c-d2bf-4920-b8c2-0b98873355f9",
   "metadata": {},
   "source": [
    "# More short format meythod(f string method)\n"
   ]
  },
  {
   "cell_type": "code",
   "execution_count": 30,
   "id": "cda47632-1780-47ca-8aaa-effaa15656df",
   "metadata": {},
   "outputs": [
    {
     "name": "stdout",
     "output_type": "stream",
     "text": [
      "The addition of 100 and 25 is= 50\n"
     ]
    }
   ],
   "source": [
    "nums1=20\n",
    "nums2=30\n",
    "add=nums1+nums2\n",
    "print(f'The addition of {num1} and {num2} is= {add}') "
   ]
  },
  {
   "cell_type": "code",
   "execution_count": 32,
   "id": "f1377085-bf1b-4bf9-9cd3-d8850d332759",
   "metadata": {},
   "outputs": [
    {
     "name": "stdout",
     "output_type": "stream",
     "text": [
      "hello my name is Krishna, and i am 20 years old from Gorakhpur\n"
     ]
    }
   ],
   "source": [
    "name='Krishna'\n",
    "age=20\n",
    "city='Gorakhpur'\n",
    "print(f'hello my name is {name}, and i am {age} years old from {city}')\n"
   ]
  },
  {
   "cell_type": "code",
   "execution_count": 34,
   "id": "2540dd7e-26bf-450a-aaa2-0525b2ee2c34",
   "metadata": {},
   "outputs": [
    {
     "name": "stdout",
     "output_type": "stream",
     "text": [
      "The avrage of 100, 25 and 333 is = 152.67\n"
     ]
    }
   ],
   "source": [
    "num1=100\n",
    "num2=25\n",
    "num3=333\n",
    "avg=round((num1+num2+num3)/3,2) \n",
    "print(f'The avrage of {num1}, {num2} and {num3} is = {avg}')\n"
   ]
  },
  {
   "cell_type": "code",
   "execution_count": 36,
   "id": "8e3918f5-1ca5-46d0-89c8-6db079f0b55d",
   "metadata": {},
   "outputs": [
    {
     "name": "stdout",
     "output_type": "stream",
     "text": [
      "The addition of 10 and 20 is= 30\n",
      "The addition of 10 and 20 is= 30\n",
      "The addition of 10 and 20 is= 30\n"
     ]
    }
   ],
   "source": [
    "num1=10\n",
    "num2=20\n",
    "add = num1+ num2\n",
    "print('The addition of',num1,'and',num2,'is=',add)\n",
    "print('The addition of {} and {} is= {}'.format(num1,num2,add))\n",
    "print(f'The addition of {num1} and {num2} is= {add}')"
   ]
  },
  {
   "cell_type": "code",
   "execution_count": null,
   "id": "9877a1a3-2b33-4bb7-aa25-4f51eab191ee",
   "metadata": {},
   "outputs": [],
   "source": [
    "# end statement"
   ]
  },
  {
   "cell_type": "code",
   "execution_count": 38,
   "id": "559c5a6e-eddc-4428-b4b5-5d69aa500be3",
   "metadata": {},
   "outputs": [
    {
     "name": "stdout",
     "output_type": "stream",
     "text": [
      "hello\n",
      "world\n"
     ]
    }
   ],
   "source": [
    "print('hello')\n",
    "print('world')\n"
   ]
  },
  {
   "cell_type": "code",
   "execution_count": 40,
   "id": "2c0982ef-9ef6-439d-a27d-c6adda4103a2",
   "metadata": {},
   "outputs": [
    {
     "name": "stdout",
     "output_type": "stream",
     "text": [
      "hello world good day\n"
     ]
    }
   ],
   "source": [
    "print('hello',end=' ')\n",
    "print('world good day')"
   ]
  },
  {
   "cell_type": "code",
   "execution_count": null,
   "id": "56285ab7-c02a-4402-87f7-f4c932b99207",
   "metadata": {},
   "outputs": [],
   "source": [
    "# seprator"
   ]
  },
  {
   "cell_type": "code",
   "execution_count": 42,
   "id": "0d7478c7-2166-4a48-bf7d-ce253c3120c2",
   "metadata": {},
   "outputs": [
    {
     "name": "stdout",
     "output_type": "stream",
     "text": [
      "hello--->hai--->how are you\n"
     ]
    }
   ],
   "source": [
    "print('hello','hai','how are you',sep='--->')"
   ]
  },
  {
   "cell_type": "code",
   "execution_count": 44,
   "id": "5e97dbde-0098-41bf-9015-898fb78ea2d6",
   "metadata": {},
   "outputs": [
    {
     "name": "stdout",
     "output_type": "stream",
     "text": [
      "hello & hai & how are you\n"
     ]
    }
   ],
   "source": [
    "print('hello','hai','how are you',sep=' & ')\n"
   ]
  },
  {
   "cell_type": "code",
   "execution_count": null,
   "id": "98a28dc7-7b7a-4bfb-9a07-013e5e2692a2",
   "metadata": {},
   "outputs": [],
   "source": []
  }
 ],
 "metadata": {
  "kernelspec": {
   "display_name": "Python 3 (ipykernel)",
   "language": "python",
   "name": "python3"
  },
  "language_info": {
   "codemirror_mode": {
    "name": "ipython",
    "version": 3
   },
   "file_extension": ".py",
   "mimetype": "text/x-python",
   "name": "python",
   "nbconvert_exporter": "python",
   "pygments_lexer": "ipython3",
   "version": "3.12.7"
  }
 },
 "nbformat": 4,
 "nbformat_minor": 5
}
